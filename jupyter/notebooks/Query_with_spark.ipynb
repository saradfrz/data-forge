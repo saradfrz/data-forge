{
 "cells": [
  {
   "cell_type": "markdown",
   "id": "3ecc6bc7-da30-4298-a5d4-0e39108adc8d",
   "metadata": {
    "vscode": {
     "languageId": "markdown"
    }
   },
   "source": [
    "<div style=\"background-color: #222; padding: 24px;\">\n",
    "    <h1 style=\"color: #d4bbff; margin-bottom: 8px;\">Query with Spark</h1>\n",
    "    <h3 style=\"color: #fff; margin-top: 0;\">Testing Lab.</h3>\n",
    "</div>"
   ]
  },
  {
   "cell_type": "code",
   "execution_count": 1,
   "id": "63aef5be",
   "metadata": {},
   "outputs": [
    {
     "name": "stdout",
     "output_type": "stream",
     "text": [
      "Spark session created successfully. Version: 3.5.0\n"
     ]
    }
   ],
   "source": [
    "from pyspark.sql import SparkSession\n",
    "from pyspark import SparkConf\n",
    "import os\n",
    "from dotenv import load_dotenv\n",
    "\n",
    "# Load environment variables\n",
    "env_path = os.path.join(os.getcwd(), '.env')\n",
    "load_dotenv(dotenv_path=env_path)\n",
    "\n",
    "# Define paths with validation\n",
    "INPUT_DATA_PATH = \"/home/jovyan/data/bronze\"\n",
    "OUTPUT_DATA_PATH = \"/home/jovyan/data/gold\"\n",
    "\n",
    "# Verify directories exist and are accessible\n",
    "def verify_directory(path):\n",
    "    if not os.path.exists(path):\n",
    "        os.makedirs(path, exist_ok=True)\n",
    "        os.chmod(path, 0o777)  # RWX for all\n",
    "    if not os.access(path, os.R_OK | os.W_OK):\n",
    "        raise PermissionError(f\"Insufficient permissions for path: {path}\")\n",
    "\n",
    "try:\n",
    "    verify_directory(INPUT_DATA_PATH)\n",
    "    verify_directory(OUTPUT_DATA_PATH)\n",
    "except Exception as e:\n",
    "    print(f\"Directory verification failed: {str(e)}\")\n",
    "    raise\n",
    "\n",
    "# Configure Spark with enhanced settings\n",
    "spark_master = os.getenv(\"SPARK_MASTER\", \"spark://spark-master:7077\")  # Default fallback\n",
    "\n",
    "conf = SparkConf() \\\n",
    "    .set(\"spark.hadoop.fs.permissions.umask-mode\", \"000\") \\\n",
    "    .set(\"spark.sql.sources.ignoreNonExistentPaths\", \"true\") \\\n",
    "    .set(\"spark.executor.extraJavaOptions\", \"-Djava.io.tmpdir=/tmp\") \\\n",
    "    .set(\"spark.driver.extraJavaOptions\", \"-Djava.io.tmpdir=/tmp\") \\\n",
    "    .set(\"spark.sql.warehouse.dir\", \"/tmp/spark-warehouse\") \\\n",
    "    .set(\"spark.hadoop.fs.file.impl\", \"org.apache.hadoop.fs.LocalFileSystem\") \\\n",
    "    .set(\"spark.executor.memory\", \"2g\") \\\n",
    "    .set(\"spark.driver.memory\", \"2g\") \\\n",
    "    .set(\"spark.sql.catalogImplementation\", \"hive\")\n",
    "\n",
    "# Initialize Spark with error handling\n",
    "try:\n",
    "    spark = SparkSession.builder \\\n",
    "        .config(conf=conf) \\\n",
    "        .appName(\"DataProcessing\") \\\n",
    "        .master(spark_master) \\\n",
    "        .enableHiveSupport() \\\n",
    "        .getOrCreate()\n",
    "    \n",
    "    # Verify Spark connectivity\n",
    "    spark.sparkContext.setLogLevel(\"WARN\")\n",
    "    print(f\"Spark session created successfully. Version: {spark.version}\")\n",
    "\n",
    "except Exception as e:\n",
    "    print(f\"Failed to initialize Spark session: {str(e)}\")\n",
    "    raise\n"
   ]
  },
  {
   "cell_type": "raw",
   "id": "53fd3d38-c4e1-4a5c-8bbd-fde11fd5217e",
   "metadata": {},
   "source": [
    "import os\n",
    "\n",
    "# Hard-set path\n",
    "OUTPUT_DATA_PATH = \"/home/jovyan/data/gold/spark_output\"\n",
    "\n",
    "# Nuclear directory cleanup\n",
    "os.system(f\"rm -rf {OUTPUT_DATA_PATH}\")\n",
    "os.makedirs(OUTPUT_DATA_PATH, exist_ok=True)\n",
    "os.chmod(OUTPUT_DATA_PATH, 0o777)\n",
    "\n",
    "# Test write\n",
    "test_df = spark.createDataFrame([(1, \"test\")], [\"id\", \"value\"])\n",
    "test_df.coalesce(1).write \\\n",
    "    .option(\"mapreduce.fileoutputcommitter.algorithm.version\", \"2\") \\\n",
    "    .mode(\"overwrite\") \\\n",
    "    .csv(OUTPUT_DATA_PATH)\n",
    "\n",
    "print(\"Success! Check output at:\", OUTPUT_DATA_PATH)"
   ]
  },
  {
   "cell_type": "code",
   "execution_count": 2,
   "id": "223daf90",
   "metadata": {},
   "outputs": [],
   "source": [
    "# Create SparkSession\n",
    "spark = SparkSession.builder.getOrCreate()"
   ]
  },
  {
   "cell_type": "code",
   "execution_count": 3,
   "id": "db46265f-3761-41dc-99a0-e6f00125555a",
   "metadata": {},
   "outputs": [],
   "source": [
    "jdbc_url = \"jdbc:postgresql://silver-postgres:5432/data_forge_silver\"\n",
    "\n",
    "connection_props = {\n",
    "    \"user\": \"postgres\",\n",
    "    \"password\": \"postgres\",\n",
    "    \"driver\": \"org.postgresql.Driver\"\n",
    "}"
   ]
  },
  {
   "cell_type": "code",
   "execution_count": 5,
   "id": "b5a5d66e-81ce-4546-ad39-8d978fc04d3c",
   "metadata": {},
   "outputs": [],
   "source": [
    "# Define your filters\n",
    "filters = [\n",
    "    {\"item\": \"guisado\", \"loja\": \"RIGHI\"}, \n",
    "    {\"item\": \"tomate\", \"loja\": \"RIGHI\"}\n",
    "]"
   ]
  },
  {
   "cell_type": "markdown",
   "id": "562bddf6-8b3d-4a39-90d5-2eb48c2eca57",
   "metadata": {},
   "source": [
    "### Predicates"
   ]
  },
  {
   "cell_type": "code",
   "execution_count": null,
   "id": "2613872b-350f-4172-b883-5a30e28e38a8",
   "metadata": {},
   "outputs": [],
   "source": [
    "predicates = [\n",
    "    f\"LOWER(\\\"DS_ITEM\\\")LIKE LOWER('%{f['item']}%') AND  LOWER(\\\"STORE\\\") LIKE LOWER('%{f['loja']}%')\"\n",
    "    for f in filters\n",
    "]\n",
    "\n",
    "df_filtered_predicates = spark.read.jdbc(\n",
    "    url=jdbc_url,\n",
    "    table=\"purchases\",\n",
    "    predicates=predicates,\n",
    "    properties=connection_props\n",
    ")\n",
    "\n",
    "df_filtered_predicates.show()"
   ]
  },
  {
   "cell_type": "markdown",
   "id": "d69af399-6831-4cd6-b08f-b0c72d8bcfc7",
   "metadata": {},
   "source": [
    "### Database filtering"
   ]
  },
  {
   "cell_type": "code",
   "execution_count": null,
   "id": "a7cc04a1-65dc-4b3b-b84d-acfa88563ad2",
   "metadata": {},
   "outputs": [],
   "source": [
    "# Generate WHERE clauses for each filter\n",
    "conditions = [\n",
    "    f\"(LOWER(\\\"DS_ITEM\\\") LIKE LOWER('%{f['item']}%') AND LOWER(\\\"STORE\\\") LIKE LOWER('%{f['loja']}%'))\"\n",
    "    for f in filters\n",
    "]\n",
    "\n",
    "# Combine with OR for all filters\n",
    "where_clause = \" OR \".join(conditions)\n",
    "\n",
    "# Push the filter to PostgreSQL via JDBC\n",
    "query = f\"(SELECT * FROM purchases WHERE {where_clause}) AS filtered_purchases\"\n",
    "\n",
    "df_filtered = spark.read.jdbc(\n",
    "    url=jdbc_url,\n",
    "    table=query,\n",
    "    properties=connection_props\n",
    ")\n",
    "\n",
    "df_filtered.show()"
   ]
  },
  {
   "cell_type": "code",
   "execution_count": null,
   "id": "c39f227e-6c71-409c-a1bc-7a7dd0fd3efd",
   "metadata": {},
   "outputs": [],
   "source": [
    "#myresult.explain(True)"
   ]
  }
 ],
 "metadata": {
  "kernelspec": {
   "display_name": "Python (myenv)",
   "language": "python",
   "name": "myenv"
  },
  "language_info": {
   "codemirror_mode": {
    "name": "ipython",
    "version": 3
   },
   "file_extension": ".py",
   "mimetype": "text/x-python",
   "name": "python",
   "nbconvert_exporter": "python",
   "pygments_lexer": "ipython3",
   "version": "3.11.6"
  }
 },
 "nbformat": 4,
 "nbformat_minor": 5
}
