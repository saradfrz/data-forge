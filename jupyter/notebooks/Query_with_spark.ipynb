{
 "cells": [
  {
   "cell_type": "markdown",
   "id": "3ecc6bc7-da30-4298-a5d4-0e39108adc8d",
   "metadata": {
    "vscode": {
     "languageId": "markdown"
    }
   },
   "source": [
    "<div style=\"background-color: #222; padding: 24px;\">\n",
    "    <h1 style=\"color: #d4bbff; margin-bottom: 8px;\">Query with Spark</h1>\n",
    "    <h3 style=\"color: #fff; margin-top: 0;\">Testing Lab.</h3>\n",
    "</div>"
   ]
  },
  {
   "cell_type": "code",
   "execution_count": 1,
   "id": "63aef5be",
   "metadata": {},
   "outputs": [
    {
     "name": "stdout",
     "output_type": "stream",
     "text": [
      "Spark session created successfully. Version: 3.5.0\n"
     ]
    }
   ],
   "source": [
    "from pyspark.sql import SparkSession\n",
    "from pyspark import SparkConf\n",
    "import os\n",
    "from dotenv import load_dotenv\n",
    "\n",
    "# Load environment variables\n",
    "env_path = os.path.join(os.getcwd(), '.env')\n",
    "load_dotenv(dotenv_path=env_path)\n",
    "\n",
    "# Define paths with validation\n",
    "INPUT_DATA_PATH = \"/home/jovyan/data/bronze\"\n",
    "OUTPUT_DATA_PATH = \"/home/jovyan/data/gold\"\n",
    "\n",
    "# Verify directories exist and are accessible\n",
    "def verify_directory(path):\n",
    "    if not os.path.exists(path):\n",
    "        os.makedirs(path, exist_ok=True)\n",
    "        os.chmod(path, 0o777)  # RWX for all\n",
    "    if not os.access(path, os.R_OK | os.W_OK):\n",
    "        raise PermissionError(f\"Insufficient permissions for path: {path}\")\n",
    "\n",
    "try:\n",
    "    verify_directory(INPUT_DATA_PATH)\n",
    "    verify_directory(OUTPUT_DATA_PATH)\n",
    "except Exception as e:\n",
    "    print(f\"Directory verification failed: {str(e)}\")\n",
    "    raise\n",
    "\n",
    "# Configure Spark with enhanced settings\n",
    "spark_master = os.getenv(\"SPARK_MASTER\", \"spark://spark-master:7077\")  # Default fallback\n",
    "\n",
    "conf = SparkConf() \\\n",
    "    .set(\"spark.hadoop.fs.permissions.umask-mode\", \"000\") \\\n",
    "    .set(\"spark.sql.sources.ignoreNonExistentPaths\", \"true\") \\\n",
    "    .set(\"spark.executor.extraJavaOptions\", \"-Djava.io.tmpdir=/tmp\") \\\n",
    "    .set(\"spark.driver.extraJavaOptions\", \"-Djava.io.tmpdir=/tmp\") \\\n",
    "    .set(\"spark.sql.warehouse.dir\", \"/tmp/spark-warehouse\") \\\n",
    "    .set(\"spark.hadoop.fs.file.impl\", \"org.apache.hadoop.fs.LocalFileSystem\") \\\n",
    "    .set(\"spark.executor.memory\", \"2g\") \\\n",
    "    .set(\"spark.driver.memory\", \"2g\") \\\n",
    "    .set(\"spark.sql.catalogImplementation\", \"hive\")\n",
    "\n",
    "# Initialize Spark with error handling\n",
    "try:\n",
    "    spark = SparkSession.builder \\\n",
    "        .config(conf=conf) \\\n",
    "        .appName(\"DataProcessing\") \\\n",
    "        .master(spark_master) \\\n",
    "        .enableHiveSupport() \\\n",
    "        .getOrCreate()\n",
    "    \n",
    "    # Verify Spark connectivity\n",
    "    spark.sparkContext.setLogLevel(\"WARN\")\n",
    "    print(f\"Spark session created successfully. Version: {spark.version}\")\n",
    "\n",
    "except Exception as e:\n",
    "    print(f\"Failed to initialize Spark session: {str(e)}\")\n",
    "    raise\n"
   ]
  },
  {
   "cell_type": "raw",
   "id": "53fd3d38-c4e1-4a5c-8bbd-fde11fd5217e",
   "metadata": {},
   "source": [
    "import os\n",
    "\n",
    "# Hard-set path\n",
    "OUTPUT_DATA_PATH = \"/home/jovyan/data/gold/spark_output\"\n",
    "\n",
    "# Nuclear directory cleanup\n",
    "os.system(f\"rm -rf {OUTPUT_DATA_PATH}\")\n",
    "os.makedirs(OUTPUT_DATA_PATH, exist_ok=True)\n",
    "os.chmod(OUTPUT_DATA_PATH, 0o777)\n",
    "\n",
    "# Test write\n",
    "test_df = spark.createDataFrame([(1, \"test\")], [\"id\", \"value\"])\n",
    "test_df.coalesce(1).write \\\n",
    "    .option(\"mapreduce.fileoutputcommitter.algorithm.version\", \"2\") \\\n",
    "    .mode(\"overwrite\") \\\n",
    "    .csv(OUTPUT_DATA_PATH)\n",
    "\n",
    "print(\"Success! Check output at:\", OUTPUT_DATA_PATH)"
   ]
  },
  {
   "cell_type": "code",
   "execution_count": 2,
   "id": "223daf90",
   "metadata": {},
   "outputs": [],
   "source": [
    "# Create SparkSession\n",
    "spark = SparkSession.builder.getOrCreate()"
   ]
  },
  {
   "cell_type": "code",
   "execution_count": 3,
   "id": "db46265f-3761-41dc-99a0-e6f00125555a",
   "metadata": {},
   "outputs": [],
   "source": [
    "jdbc_url = \"jdbc:postgresql://silver-postgres:5432/data_forge_silver\"\n",
    "\n",
    "connection_props = {\n",
    "    \"user\": \"postgres\",\n",
    "    \"password\": \"postgres\",\n",
    "    \"driver\": \"org.postgresql.Driver\"\n",
    "}"
   ]
  },
  {
   "cell_type": "code",
   "execution_count": 5,
   "id": "b5a5d66e-81ce-4546-ad39-8d978fc04d3c",
   "metadata": {},
   "outputs": [],
   "source": [
    "# Define your filters\n",
    "filters = [\n",
    "    {\"item\": \"guisado\", \"loja\": \"RIGHI\"}, \n",
    "    {\"item\": \"tomate\", \"loja\": \"RIGHI\"}\n",
    "]"
   ]
  },
  {
   "cell_type": "markdown",
   "id": "562bddf6-8b3d-4a39-90d5-2eb48c2eca57",
   "metadata": {},
   "source": [
    "### Predicates"
   ]
  },
  {
   "cell_type": "code",
   "execution_count": 6,
   "id": "2613872b-350f-4172-b883-5a30e28e38a8",
   "metadata": {},
   "outputs": [
    {
     "name": "stdout",
     "output_type": "stream",
     "text": [
      "+-------+--------------------+-----+---+-------+--------+--------------------+-------------------+\n",
      "|CD_ITEM|             DS_ITEM| QTDE| UN|VL_UNIT|VL_TOTAL|               STORE|       PURCHASED_AT|\n",
      "+-------+--------------------+-----+---+-------+--------+--------------------+-------------------+\n",
      "|    379| GUISADO ESPECIAL KG|1.018| kg|   24.9|   25.35|RIGHI COM.DE GEN....|2021-05-22 12:08:18|\n",
      "|    378| GUISADO DE PRIMEIRA|1.018| kg|   33.9|   34.51|RIGHI COM.DE GEN....|2023-10-03 08:58:37|\n",
      "|    378| GUISADO DE PRIMEIRA|1.282| KG|   36.7|   47.05|RIGHI COM.DE GEN....|2024-07-27 14:53:02|\n",
      "|    379| GUISADO ESPECIAL KG|0.522| kg|   25.5|   13.31|RIGHI COM.DE GEN....|2021-08-23 18:38:01|\n",
      "|    379| GUISADO ESPECIAL KG|0.804| kg|   22.4|   18.01|RIGHI COM.DE GEN....|2023-09-30 15:37:56|\n",
      "|    378| GUISADO DE PRIMEIRA| 1.29| KG|   36.7|   47.34|RIGHI COM.DE GEN....|2024-08-02 16:23:33|\n",
      "|    378| GUISADO DE PRIMEIRA|3.036| KG|   36.7|  111.42|RIGHI COM.DE GEN....|2024-09-03 09:18:50|\n",
      "|    379| GUISADO ESPECIAL KG|0.998| kg|   25.8|   25.75|RIGHI COM.DE GEN....|2023-06-01 11:34:30|\n",
      "|    379| GUISADO ESPECIAL KG|1.048| kg|   25.9|   27.14|RIGHI COM.DE GEN....|2022-06-12 09:59:00|\n",
      "|    379| GUISADO ESPECIAL KG|1.012| kg|   25.9|   26.21|RIGHI COM.DE GEN....|2022-06-19 12:36:39|\n",
      "|    379| GUISADO ESPECIAL KG|0.762| kg|   22.9|   17.45|RIGHI COM.DE GEN....|2021-01-04 17:16:56|\n",
      "|    379| GUISADO ESPECIAL KG| 1.05| kg|   22.4|   23.52|RIGHI COM.DE GEN....|2023-09-14 08:29:12|\n",
      "|    379| GUISADO ESPECIAL KG|1.164| kg|   24.9|   28.98|RIGHI COM.DE GEN....|2021-05-03 12:37:21|\n",
      "|    223|TOMATE LONGA VIDA KG|0.945| kg|    5.4|     5.1|RIGHI COM.DE GEN....|2023-01-21 15:12:33|\n",
      "|    223|TOMATE LONGA VIDA KG| 0.52| kg|   3.59|    1.87|RIGHI COM.DE GEN....|2023-01-23 08:36:32|\n",
      "|    223|TOMATE LONGA VIDA KG| 1.74| kg|    3.9|    6.79|RIGHI COM.DE GEN....|2023-01-09 16:49:29|\n",
      "|    223|TOMATE LONGA VIDA KG|0.825| KG|    9.9|    8.17|RIGHI COM.DE GEN....|2025-04-01 11:23:36|\n",
      "|    223|TOMATE LONGA VIDA KG|0.735| kg|   3.98|    2.93|RIGHI COM.DE GEN....|2023-02-24 15:20:16|\n",
      "|    223|TOMATE LONGA VIDA KG| 0.38| KG|   8.45|    3.21|RIGHI COM.DE GEN....|2025-04-26 17:24:38|\n",
      "|    223|TOMATE LONGA VIDA KG| 0.54| kg|   8.49|    4.58|RIGHI COM.DE GEN....|2023-07-06 11:30:33|\n",
      "+-------+--------------------+-----+---+-------+--------+--------------------+-------------------+\n",
      "only showing top 20 rows\n",
      "\n"
     ]
    }
   ],
   "source": [
    "predicates = [\n",
    "    f\"LOWER(\\\"DS_ITEM\\\")LIKE LOWER('%{f['item']}%') AND  LOWER(\\\"STORE\\\") LIKE LOWER('%{f['loja']}%')\"\n",
    "    for f in filters\n",
    "]\n",
    "\n",
    "df_filtered_predicates = spark.read.jdbc(\n",
    "    url=jdbc_url,\n",
    "    table=\"purchases\",\n",
    "    predicates=predicates,\n",
    "    properties=connection_props\n",
    ")\n",
    "\n",
    "df_filtered_predicates.show()"
   ]
  },
  {
   "cell_type": "markdown",
   "id": "d69af399-6831-4cd6-b08f-b0c72d8bcfc7",
   "metadata": {},
   "source": [
    "### Database filtering"
   ]
  },
  {
   "cell_type": "code",
   "execution_count": 7,
   "id": "a7cc04a1-65dc-4b3b-b84d-acfa88563ad2",
   "metadata": {},
   "outputs": [
    {
     "name": "stdout",
     "output_type": "stream",
     "text": [
      "+-------+--------------------+-----+---+-------+--------+--------------------+-------------------+\n",
      "|CD_ITEM|             DS_ITEM| QTDE| UN|VL_UNIT|VL_TOTAL|               STORE|       PURCHASED_AT|\n",
      "+-------+--------------------+-----+---+-------+--------+--------------------+-------------------+\n",
      "|    223|TOMATE LONGA VIDA KG|0.945| kg|    5.4|     5.1|RIGHI COM.DE GEN....|2023-01-21 15:12:33|\n",
      "|    223|TOMATE LONGA VIDA KG| 0.52| kg|   3.59|    1.87|RIGHI COM.DE GEN....|2023-01-23 08:36:32|\n",
      "|    223|TOMATE LONGA VIDA KG| 1.74| kg|    3.9|    6.79|RIGHI COM.DE GEN....|2023-01-09 16:49:29|\n",
      "|    379| GUISADO ESPECIAL KG|1.018| kg|   24.9|   25.35|RIGHI COM.DE GEN....|2021-05-22 12:08:18|\n",
      "|    223|TOMATE LONGA VIDA KG|0.825| KG|    9.9|    8.17|RIGHI COM.DE GEN....|2025-04-01 11:23:36|\n",
      "|    223|TOMATE LONGA VIDA KG|0.735| kg|   3.98|    2.93|RIGHI COM.DE GEN....|2023-02-24 15:20:16|\n",
      "|    223|TOMATE LONGA VIDA KG| 0.38| KG|   8.45|    3.21|RIGHI COM.DE GEN....|2025-04-26 17:24:38|\n",
      "|    378| GUISADO DE PRIMEIRA|1.018| kg|   33.9|   34.51|RIGHI COM.DE GEN....|2023-10-03 08:58:37|\n",
      "|    223|TOMATE LONGA VIDA KG| 0.54| kg|   8.49|    4.58|RIGHI COM.DE GEN....|2023-07-06 11:30:33|\n",
      "|    223|TOMATE LONGA VIDA KG| 0.23| kg|   5.95|    1.37|RIGHI COM.DE GEN....|2023-05-29 10:43:00|\n",
      "|    223|TOMATE LONGA VIDA KG|0.265| kg|    6.5|    1.72|RIGHI COM.DE GEN....|2023-07-02 09:54:33|\n",
      "|    223|TOMATE LONGA VIDA KG| 0.52| kg|    6.9|    3.59|RIGHI COM.DE GEN....|2023-11-24 14:55:37|\n",
      "|    223|TOMATE LONGA VIDA KG|0.675| kg|   11.5|    7.76|RIGHI COM.DE GEN....|2023-12-24 16:55:05|\n",
      "|    905|  TOMATE ITALIANO KG|0.545| kg|   4.45|    2.43|RIGHI COM.DE GEN....|2023-07-25 18:26:50|\n",
      "|    378| GUISADO DE PRIMEIRA|1.282| KG|   36.7|   47.05|RIGHI COM.DE GEN....|2024-07-27 14:53:02|\n",
      "|    223|TOMATE LONGA VIDA KG|  0.9| KG|    3.9|    3.51|RIGHI COM.DE GEN....|2024-11-24 08:41:35|\n",
      "|    223|TOMATE LONGA VIDA KG|0.325| KG|   3.15|    1.02|RIGHI COM.DE GEN....|2024-12-22 10:32:16|\n",
      "|    223|TOMATE LONGA VIDA KG|1.245| kg|   7.45|    9.28|RIGHI COM.DE GEN....|2023-06-16 15:08:25|\n",
      "|    223|TOMATE LONGA VIDA KG| 0.13| kg|    6.5|    0.84|RIGHI COM.DE GEN....|2023-06-28 18:32:37|\n",
      "|    223|TOMATE LONGA VIDA KG|0.745| kg|    5.5|     4.1|RIGHI COM.DE GEN....|2023-10-27 17:50:42|\n",
      "+-------+--------------------+-----+---+-------+--------+--------------------+-------------------+\n",
      "only showing top 20 rows\n",
      "\n"
     ]
    }
   ],
   "source": [
    "# Generate WHERE clauses for each filter\n",
    "conditions = [\n",
    "    f\"(LOWER(\\\"DS_ITEM\\\") LIKE LOWER('%{f['item']}%') AND LOWER(\\\"STORE\\\") LIKE LOWER('%{f['loja']}%'))\"\n",
    "    for f in filters\n",
    "]\n",
    "\n",
    "# Combine with OR for all filters\n",
    "where_clause = \" OR \".join(conditions)\n",
    "\n",
    "# Push the filter to PostgreSQL via JDBC\n",
    "query = f\"(SELECT * FROM purchases WHERE {where_clause}) AS filtered_purchases\"\n",
    "\n",
    "df_filtered = spark.read.jdbc(\n",
    "    url=jdbc_url,\n",
    "    table=query,\n",
    "    properties=connection_props\n",
    ")\n",
    "\n",
    "df_filtered.show()"
   ]
  },
  {
   "cell_type": "code",
   "execution_count": 8,
   "id": "c39f227e-6c71-409c-a1bc-7a7dd0fd3efd",
   "metadata": {},
   "outputs": [
    {
     "name": "stdout",
     "output_type": "stream",
     "text": [
      "== Parsed Logical Plan ==\n",
      "Relation [CD_ITEM#49,DS_ITEM#50,QTDE#51,UN#52,VL_UNIT#53,VL_TOTAL#54,STORE#55,PURCHASED_AT#56] JDBCRelation((SELECT * FROM purchases WHERE (LOWER(\"DS_ITEM\") LIKE LOWER('%guisado%') AND LOWER(\"STORE\") LIKE LOWER('%RIGHI%')) OR (LOWER(\"DS_ITEM\") LIKE LOWER('%tomate%') AND LOWER(\"STORE\") LIKE LOWER('%RIGHI%'))) AS filtered_purchases) [numPartitions=1]\n",
      "\n",
      "== Analyzed Logical Plan ==\n",
      "CD_ITEM: string, DS_ITEM: string, QTDE: double, UN: string, VL_UNIT: double, VL_TOTAL: double, STORE: string, PURCHASED_AT: timestamp\n",
      "Relation [CD_ITEM#49,DS_ITEM#50,QTDE#51,UN#52,VL_UNIT#53,VL_TOTAL#54,STORE#55,PURCHASED_AT#56] JDBCRelation((SELECT * FROM purchases WHERE (LOWER(\"DS_ITEM\") LIKE LOWER('%guisado%') AND LOWER(\"STORE\") LIKE LOWER('%RIGHI%')) OR (LOWER(\"DS_ITEM\") LIKE LOWER('%tomate%') AND LOWER(\"STORE\") LIKE LOWER('%RIGHI%'))) AS filtered_purchases) [numPartitions=1]\n",
      "\n",
      "== Optimized Logical Plan ==\n",
      "Relation [CD_ITEM#49,DS_ITEM#50,QTDE#51,UN#52,VL_UNIT#53,VL_TOTAL#54,STORE#55,PURCHASED_AT#56] JDBCRelation((SELECT * FROM purchases WHERE (LOWER(\"DS_ITEM\") LIKE LOWER('%guisado%') AND LOWER(\"STORE\") LIKE LOWER('%RIGHI%')) OR (LOWER(\"DS_ITEM\") LIKE LOWER('%tomate%') AND LOWER(\"STORE\") LIKE LOWER('%RIGHI%'))) AS filtered_purchases) [numPartitions=1]\n",
      "\n",
      "== Physical Plan ==\n",
      "*(1) Scan JDBCRelation((SELECT * FROM purchases WHERE (LOWER(\"DS_ITEM\") LIKE LOWER('%guisado%') AND LOWER(\"STORE\") LIKE LOWER('%RIGHI%')) OR (LOWER(\"DS_ITEM\") LIKE LOWER('%tomate%') AND LOWER(\"STORE\") LIKE LOWER('%RIGHI%'))) AS filtered_purchases) [numPartitions=1] [CD_ITEM#49,DS_ITEM#50,QTDE#51,UN#52,VL_UNIT#53,VL_TOTAL#54,STORE#55,PURCHASED_AT#56] PushedFilters: [], ReadSchema: struct<CD_ITEM:string,DS_ITEM:string,QTDE:double,UN:string,VL_UNIT:double,VL_TOTAL:double,STORE:s...\n",
      "\n"
     ]
    }
   ],
   "source": [
    "df_filtered.explain(True)"
   ]
  },
  {
   "cell_type": "code",
   "execution_count": null,
   "id": "1b9dd24f-90e5-4f89-b555-50be9895165d",
   "metadata": {},
   "outputs": [],
   "source": []
  }
 ],
 "metadata": {
  "kernelspec": {
   "display_name": "Python (myenv)",
   "language": "python",
   "name": "myenv"
  },
  "language_info": {
   "codemirror_mode": {
    "name": "ipython",
    "version": 3
   },
   "file_extension": ".py",
   "mimetype": "text/x-python",
   "name": "python",
   "nbconvert_exporter": "python",
   "pygments_lexer": "ipython3",
   "version": "3.11.6"
  }
 },
 "nbformat": 4,
 "nbformat_minor": 5
}
